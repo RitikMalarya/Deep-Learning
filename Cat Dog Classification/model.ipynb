{
 "cells": [
  {
   "cell_type": "code",
   "execution_count": 7,
   "id": "d63d335b",
   "metadata": {},
   "outputs": [],
   "source": [
    "import matplotlib.pyplot as plt"
   ]
  },
  {
   "cell_type": "code",
   "execution_count": 1,
   "id": "6ff5da18",
   "metadata": {},
   "outputs": [],
   "source": [
    "import tensorflow as tf\n",
    "from tensorflow import keras\n",
    "from keras.preprocessing.image import ImageDataGenerator"
   ]
  },
  {
   "cell_type": "code",
   "execution_count": 2,
   "id": "5420cd80",
   "metadata": {},
   "outputs": [
    {
     "name": "stdout",
     "output_type": "stream",
     "text": [
      "2.6.0\n"
     ]
    }
   ],
   "source": [
    "print(tf.__version__)"
   ]
  },
  {
   "cell_type": "markdown",
   "id": "61db1b73",
   "metadata": {},
   "source": [
    "### Data Preprocessing"
   ]
  },
  {
   "cell_type": "code",
   "execution_count": 3,
   "id": "34103465",
   "metadata": {},
   "outputs": [
    {
     "name": "stdout",
     "output_type": "stream",
     "text": [
      "Found 7715 images belonging to 2 classes.\n"
     ]
    }
   ],
   "source": [
    "#Processing the training set \n",
    "train_datagen = ImageDataGenerator(rescale= 1./255,\n",
    "                                  shear_range=0.2,\n",
    "                                  zoom_range=0.2,\n",
    "                                  horizontal_flip=True)\n",
    "\n",
    "training_set = train_datagen.flow_from_directory('dataset/training_set',\n",
    "                                                target_size=(64,64),\n",
    "                                                batch_size=32,\n",
    "                                                class_mode='binary')"
   ]
  },
  {
   "cell_type": "code",
   "execution_count": 4,
   "id": "7422a9c1",
   "metadata": {},
   "outputs": [
    {
     "name": "stdout",
     "output_type": "stream",
     "text": [
      "Found 619 images belonging to 2 classes.\n"
     ]
    }
   ],
   "source": [
    "# processing the test set\n",
    "test_datagen = ImageDataGenerator(rescale=1./255)\n",
    "\n",
    "test_set = test_datagen.flow_from_directory('dataset/test_set',\n",
    "                                           target_size=(64,64),\n",
    "                                           batch_size=32,\n",
    "                                           class_mode='binary')"
   ]
  },
  {
   "cell_type": "markdown",
   "id": "d33ef32c",
   "metadata": {},
   "source": [
    "### Fitting CNN Model"
   ]
  },
  {
   "cell_type": "code",
   "execution_count": 5,
   "id": "2d32a89c",
   "metadata": {
    "scrolled": true
   },
   "outputs": [
    {
     "name": "stdout",
     "output_type": "stream",
     "text": [
      "Epoch 1/10\n",
      "242/242 [==============================] - 50s 205ms/step - loss: 0.6767 - accuracy: 0.5702 - val_loss: 0.6518 - val_accuracy: 0.5913\n",
      "Epoch 2/10\n",
      "242/242 [==============================] - 42s 174ms/step - loss: 0.6087 - accuracy: 0.6652 - val_loss: 0.5482 - val_accuracy: 0.7270\n",
      "Epoch 3/10\n",
      "242/242 [==============================] - 39s 161ms/step - loss: 0.5647 - accuracy: 0.7054 - val_loss: 0.5067 - val_accuracy: 0.7512\n",
      "Epoch 4/10\n",
      "242/242 [==============================] - 39s 162ms/step - loss: 0.5375 - accuracy: 0.7273 - val_loss: 0.4728 - val_accuracy: 0.7803\n",
      "Epoch 5/10\n",
      "242/242 [==============================] - 39s 160ms/step - loss: 0.5086 - accuracy: 0.7542 - val_loss: 0.5277 - val_accuracy: 0.7561\n",
      "Epoch 6/10\n",
      "242/242 [==============================] - 39s 160ms/step - loss: 0.4921 - accuracy: 0.7584 - val_loss: 0.4580 - val_accuracy: 0.7803\n",
      "Epoch 7/10\n",
      "242/242 [==============================] - 31s 129ms/step - loss: 0.4711 - accuracy: 0.7741 - val_loss: 0.4290 - val_accuracy: 0.8045\n",
      "Epoch 8/10\n",
      "242/242 [==============================] - 30s 123ms/step - loss: 0.4572 - accuracy: 0.7839 - val_loss: 0.5200 - val_accuracy: 0.7512\n",
      "Epoch 9/10\n",
      "242/242 [==============================] - 29s 121ms/step - loss: 0.4489 - accuracy: 0.7886 - val_loss: 0.4984 - val_accuracy: 0.7706\n",
      "Epoch 10/10\n",
      "242/242 [==============================] - 29s 122ms/step - loss: 0.4392 - accuracy: 0.7936 - val_loss: 0.4556 - val_accuracy: 0.7771\n"
     ]
    },
    {
     "data": {
      "text/plain": [
       "<keras.callbacks.History at 0x1bd8adb7970>"
      ]
     },
     "execution_count": 5,
     "metadata": {},
     "output_type": "execute_result"
    }
   ],
   "source": [
    "cnn = keras.models.Sequential([\n",
    "    keras.layers.Conv2D(filters=32,kernel_size=3,activation='relu',input_shape=[64,64,3]),\n",
    "    keras.layers.MaxPooling2D(pool_size=2,strides=2),\n",
    "    keras.layers.Conv2D(filters=32,kernel_size=3,activation='relu'),\n",
    "    keras.layers.MaxPooling2D(pool_size=2,strides=2),\n",
    "    keras.layers.Flatten(),\n",
    "    keras.layers.Dense(units=128,activation='relu'),\n",
    "    keras.layers.Dense(units=1,activation='sigmoid')\n",
    "])\n",
    "\n",
    "\n",
    "cnn.compile(optimizer='adam',metrics=['accuracy'],loss='binary_crossentropy')\n",
    "\n",
    "\n",
    "cnn.fit(x=training_set,validation_data=test_set,epochs=10)"
   ]
  },
  {
   "cell_type": "markdown",
   "id": "901deb7e",
   "metadata": {},
   "source": [
    "### Making Prediction on single image"
   ]
  },
  {
   "cell_type": "code",
   "execution_count": 12,
   "id": "6d3a9562",
   "metadata": {},
   "outputs": [
    {
     "name": "stdout",
     "output_type": "stream",
     "text": [
      "Dog\n"
     ]
    }
   ],
   "source": [
    "import numpy as np\n",
    "from PIL import Image\n",
    "from keras.preprocessing import image\n",
    "test_img = image.load_img('dataset/single_prediction/cat_or_dog_1.jpg',target_size=(64,64))\n",
    "test_img = image.img_to_array(test_img)\n",
    "test_img = np.expand_dims(test_img,axis=0)\n",
    "\n",
    "# Prediction\n",
    "result = cnn.predict(test_img)\n",
    "if result[0][0]==0:\n",
    "    prediction='Cat'\n",
    "else:\n",
    "    prediction='Dog'\n",
    "    \n",
    "print(prediction)\n",
    "\n",
    "\n",
    "\n",
    "\n"
   ]
  },
  {
   "cell_type": "code",
   "execution_count": null,
   "id": "f2f1aa74",
   "metadata": {},
   "outputs": [],
   "source": []
  }
 ],
 "metadata": {
  "kernelspec": {
   "display_name": "Python 3",
   "language": "python",
   "name": "python3"
  },
  "language_info": {
   "codemirror_mode": {
    "name": "ipython",
    "version": 3
   },
   "file_extension": ".py",
   "mimetype": "text/x-python",
   "name": "python",
   "nbconvert_exporter": "python",
   "pygments_lexer": "ipython3",
   "version": "3.8.8"
  }
 },
 "nbformat": 4,
 "nbformat_minor": 5
}
