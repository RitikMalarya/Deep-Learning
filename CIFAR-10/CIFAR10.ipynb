{
 "cells": [
  {
   "cell_type": "code",
   "execution_count": 1,
   "id": "4d3b6e7b",
   "metadata": {},
   "outputs": [],
   "source": [
    "#Importing Libraries\n",
    "import numpy as np\n",
    "import pandas as pd\n",
    "import tensorflow as tf\n",
    "import matplotlib.pyplot as plt\n",
    "from tensorflow.keras import models,layers\n"
   ]
  },
  {
   "cell_type": "code",
   "execution_count": 2,
   "id": "a6dc5b78",
   "metadata": {},
   "outputs": [],
   "source": [
    "#Fetching Datasets\n",
    "from keras.datasets import cifar10\n",
    "(x_train,y_train),(x_test,y_test) = cifar10.load_data()\n"
   ]
  },
  {
   "cell_type": "code",
   "execution_count": 3,
   "id": "5eb321b4",
   "metadata": {},
   "outputs": [
    {
     "name": "stdout",
     "output_type": "stream",
     "text": [
      "(50000, 32, 32, 3)\n",
      "(50000, 1)\n",
      "(10000, 32, 32, 3)\n",
      "(10000, 1)\n"
     ]
    }
   ],
   "source": [
    "#Number of Train/test sample\n",
    "print(x_train.shape)\n",
    "print(y_train.shape)\n",
    "print(x_test.shape)\n",
    "print(y_test.shape)"
   ]
  },
  {
   "cell_type": "code",
   "execution_count": 4,
   "id": "75202321",
   "metadata": {},
   "outputs": [
    {
     "data": {
      "text/plain": [
       "array([[6],\n",
       "       [9],\n",
       "       [9],\n",
       "       [4],\n",
       "       [1]], dtype=uint8)"
      ]
     },
     "execution_count": 4,
     "metadata": {},
     "output_type": "execute_result"
    }
   ],
   "source": [
    "y_train[:5]"
   ]
  },
  {
   "cell_type": "code",
   "execution_count": 5,
   "id": "96f83a0f",
   "metadata": {},
   "outputs": [
    {
     "data": {
      "text/plain": [
       "array([6, 9, 9, 4, 1], dtype=uint8)"
      ]
     },
     "execution_count": 5,
     "metadata": {},
     "output_type": "execute_result"
    }
   ],
   "source": [
    "y_train = y_train.reshape(-1,)\n",
    "y_train[:5]"
   ]
  },
  {
   "cell_type": "code",
   "execution_count": 6,
   "id": "c84bd7d5",
   "metadata": {},
   "outputs": [],
   "source": [
    "classes = ['Aeroplane','Automobile','bird','cat','deer','dog','frog','horse',\n",
    "         'ship','truck']"
   ]
  },
  {
   "cell_type": "code",
   "execution_count": 7,
   "id": "f606d042",
   "metadata": {},
   "outputs": [],
   "source": [
    "def plot(x,y,index):\n",
    "    plt.figure(figsize=(15,2))\n",
    "    plt.imshow(x[index])\n",
    "    plt.xlabel(classes[y[index]])"
   ]
  },
  {
   "cell_type": "code",
   "execution_count": 8,
   "id": "694bd33b",
   "metadata": {},
   "outputs": [
    {
     "data": {
      "image/png": "[encoded data removed]",
      "text/plain": [
       "<Figure size 1080x144 with 1 Axes>"
      ]
     },
     "metadata": {
      "needs_background": "light"
     },
     "output_type": "display_data"
    }
   ],
   "source": [
    "plot(x_train,y_train,0)"
   ]
  },
  {
   "cell_type": "code",
   "execution_count": 9,
   "id": "ec5f29e7",
   "metadata": {
    "scrolled": true
   },
   "outputs": [
    {
     "data": {
      "image/png": "[encoded data removed]",
      "text/plain": [
       "<Figure size 1080x144 with 1 Axes>"
      ]
     },
     "metadata": {
      "needs_background": "light"
     },
     "output_type": "display_data"
    }
   ],
   "source": [
    "plot(x_train,y_train,3)"
   ]
  },
  {
   "cell_type": "code",
   "execution_count": 10,
   "id": "8af10ea7",
   "metadata": {},
   "outputs": [],
   "source": [
    "x_train  = x_train/255.\n",
    "x_test = x_test/255."
   ]
  },
  {
   "cell_type": "markdown",
   "id": "bddfe73a",
   "metadata": {},
   "source": [
    "### We'll train the model with ANN(Artifical Nueral Netwrok)"
   ]
  },
  {
   "cell_type": "code",
   "execution_count": 11,
   "id": "bb9a056a",
   "metadata": {},
   "outputs": [],
   "source": [
    "\n",
    "ann=models.Sequential([\n",
    "    layers.Flatten(input_shape=(32,32,3)),\n",
    "    layers.Dense(3000,activation='relu'),\n",
    "    layers.Dense(1000,activation='relu'),\n",
    "    layers.Dense(10,activation='softmax')\n",
    "])\n"
   ]
  },
  {
   "cell_type": "code",
   "execution_count": 12,
   "id": "03733cb5",
   "metadata": {},
   "outputs": [
    {
     "name": "stdout",
     "output_type": "stream",
     "text": [
      "Epoch 1/20\n",
      "98/98 [==============================] - 17s 166ms/step - loss: 2.0626 - accuracy: 0.2724\n",
      "Epoch 2/20\n",
      "98/98 [==============================] - 16s 161ms/step - loss: 1.8884 - accuracy: 0.3454\n",
      "Epoch 3/20\n",
      "98/98 [==============================] - 16s 162ms/step - loss: 1.8255 - accuracy: 0.3659\n",
      "Epoch 4/20\n",
      "98/98 [==============================] - 16s 162ms/step - loss: 1.7878 - accuracy: 0.3786\n",
      "Epoch 5/20\n",
      "98/98 [==============================] - 16s 166ms/step - loss: 1.7597 - accuracy: 0.3902\n",
      "Epoch 6/20\n",
      "98/98 [==============================] - 17s 173ms/step - loss: 1.7339 - accuracy: 0.3990\n",
      "Epoch 7/20\n",
      "98/98 [==============================] - 19s 191ms/step - loss: 1.7159 - accuracy: 0.4068\n",
      "Epoch 8/20\n",
      "98/98 [==============================] - 18s 183ms/step - loss: 1.6963 - accuracy: 0.4141\n",
      "Epoch 9/20\n",
      "98/98 [==============================] - 17s 175ms/step - loss: 1.6793 - accuracy: 0.4206\n",
      "Epoch 10/20\n",
      "98/98 [==============================] - 16s 162ms/step - loss: 1.6631 - accuracy: 0.4255\n",
      "Epoch 11/20\n",
      "98/98 [==============================] - 16s 162ms/step - loss: 1.6505 - accuracy: 0.4288\n",
      "Epoch 12/20\n",
      "98/98 [==============================] - 17s 169ms/step - loss: 1.6365 - accuracy: 0.4360\n",
      "Epoch 13/20\n",
      "98/98 [==============================] - 16s 162ms/step - loss: 1.6233 - accuracy: 0.4395\n",
      "Epoch 14/20\n",
      "98/98 [==============================] - 16s 161ms/step - loss: 1.6118 - accuracy: 0.4437\n",
      "Epoch 15/20\n",
      "98/98 [==============================] - 16s 166ms/step - loss: 1.6010 - accuracy: 0.4465\n",
      "Epoch 16/20\n",
      "98/98 [==============================] - 17s 176ms/step - loss: 1.5916 - accuracy: 0.4494\n",
      "Epoch 17/20\n",
      "98/98 [==============================] - 16s 167ms/step - loss: 1.5827 - accuracy: 0.4531\n",
      "Epoch 18/20\n",
      "98/98 [==============================] - 16s 166ms/step - loss: 1.5681 - accuracy: 0.4601\n",
      "Epoch 19/20\n",
      "98/98 [==============================] - 17s 175ms/step - loss: 1.5634 - accuracy: 0.4578\n",
      "Epoch 20/20\n",
      "98/98 [==============================] - 16s 166ms/step - loss: 1.5484 - accuracy: 0.4663\n"
     ]
    },
    {
     "data": {
      "text/plain": [
       "<keras.callbacks.History at 0x1da4052bf10>"
      ]
     },
     "execution_count": 12,
     "metadata": {},
     "output_type": "execute_result"
    }
   ],
   "source": [
    "ann.compile(optimizer=\"SGD\",loss='sparse_categorical_crossentropy',metrics=['accuracy'])\n",
    "ann.fit(x_train,y_train,epochs=20,batch_size=512)"
   ]
  },
  {
   "cell_type": "code",
   "execution_count": 13,
   "id": "b38beac8",
   "metadata": {},
   "outputs": [
    {
     "name": "stdout",
     "output_type": "stream",
     "text": [
      "313/313 [==============================] - 3s 10ms/step - loss: 1.6026 - accuracy: 0.4397\n"
     ]
    },
    {
     "data": {
      "text/plain": [
       "[1.6025692224502563, 0.43970000743865967]"
      ]
     },
     "execution_count": 13,
     "metadata": {},
     "output_type": "execute_result"
    }
   ],
   "source": [
    "ann.evaluate(x_test,y_test)"
   ]
  },
  {
   "cell_type": "code",
   "execution_count": 14,
   "id": "bbbb2146",
   "metadata": {},
   "outputs": [
    {
     "name": "stdout",
     "output_type": "stream",
     "text": [
      "Classfication Report: \n",
      "               precision    recall  f1-score   support\n",
      "\n",
      "           0       0.65      0.35      0.45      1000\n",
      "           1       0.55      0.57      0.56      1000\n",
      "           2       0.35      0.26      0.30      1000\n",
      "           3       0.27      0.47      0.34      1000\n",
      "           4       0.50      0.18      0.26      1000\n",
      "           5       0.38      0.34      0.36      1000\n",
      "           6       0.37      0.70      0.49      1000\n",
      "           7       0.58      0.40      0.47      1000\n",
      "           8       0.54      0.62      0.58      1000\n",
      "           9       0.51      0.51      0.51      1000\n",
      "\n",
      "    accuracy                           0.44     10000\n",
      "   macro avg       0.47      0.44      0.43     10000\n",
      "weighted avg       0.47      0.44      0.43     10000\n",
      "\n"
     ]
    }
   ],
   "source": [
    "from sklearn.metrics import confusion_matrix,classification_report\n",
    "import numpy as np\n",
    "y_pred=ann.predict(x_test)\n",
    "y_pred_classes = [np.argmax(element) for element in y_pred]\n",
    "\n",
    "print(\"Classfication Report: \\n\",classification_report(y_test,y_pred_classes))"
   ]
  },
  {
   "cell_type": "markdown",
   "id": "f00353bc",
   "metadata": {},
   "source": [
    "### Now we'll train this model with CNN(Convolutional Neural Network)"
   ]
  },
  {
   "cell_type": "code",
   "execution_count": 15,
   "id": "63d95394",
   "metadata": {
    "scrolled": false
   },
   "outputs": [
    {
     "name": "stdout",
     "output_type": "stream",
     "text": [
      "Epoch 1/20\n",
      "98/98 [==============================] - 25s 251ms/step - loss: 1.7834 - accuracy: 0.3591\n",
      "Epoch 2/20\n",
      "98/98 [==============================] - 27s 272ms/step - loss: 1.4317 - accuracy: 0.4923\n",
      "Epoch 3/20\n",
      "98/98 [==============================] - 26s 264ms/step - loss: 1.3013 - accuracy: 0.5416\n",
      "Epoch 4/20\n",
      "98/98 [==============================] - 24s 245ms/step - loss: 1.2242 - accuracy: 0.5713\n",
      "Epoch 5/20\n",
      "98/98 [==============================] - 25s 254ms/step - loss: 1.1496 - accuracy: 0.5996\n",
      "Epoch 6/20\n",
      "98/98 [==============================] - 26s 264ms/step - loss: 1.1064 - accuracy: 0.6145\n",
      "Epoch 7/20\n",
      "98/98 [==============================] - 25s 257ms/step - loss: 1.0614 - accuracy: 0.6316\n",
      "Epoch 8/20\n",
      "98/98 [==============================] - 23s 236ms/step - loss: 1.0267 - accuracy: 0.6432\n",
      "Epoch 9/20\n",
      "98/98 [==============================] - 23s 233ms/step - loss: 0.9846 - accuracy: 0.6601\n",
      "Epoch 10/20\n",
      "98/98 [==============================] - 23s 234ms/step - loss: 0.9608 - accuracy: 0.6677\n",
      "Epoch 11/20\n",
      "98/98 [==============================] - 23s 234ms/step - loss: 0.9393 - accuracy: 0.6772\n",
      "Epoch 12/20\n",
      "98/98 [==============================] - 23s 232ms/step - loss: 0.9143 - accuracy: 0.6844\n",
      "Epoch 13/20\n",
      "98/98 [==============================] - 23s 233ms/step - loss: 0.8896 - accuracy: 0.6930\n",
      "Epoch 14/20\n",
      "98/98 [==============================] - 23s 233ms/step - loss: 0.8797 - accuracy: 0.6952\n",
      "Epoch 15/20\n",
      "98/98 [==============================] - 23s 233ms/step - loss: 0.8588 - accuracy: 0.7049\n",
      "Epoch 16/20\n",
      "98/98 [==============================] - 23s 235ms/step - loss: 0.8369 - accuracy: 0.7116\n",
      "Epoch 17/20\n",
      "98/98 [==============================] - 23s 233ms/step - loss: 0.8179 - accuracy: 0.7197\n",
      "Epoch 18/20\n",
      "98/98 [==============================] - 23s 233ms/step - loss: 0.8024 - accuracy: 0.7249\n",
      "Epoch 19/20\n",
      "98/98 [==============================] - 23s 231ms/step - loss: 0.7869 - accuracy: 0.7295\n",
      "Epoch 20/20\n",
      "98/98 [==============================] - 23s 232ms/step - loss: 0.7689 - accuracy: 0.7367\n"
     ]
    },
    {
     "data": {
      "text/plain": [
       "<keras.callbacks.History at 0x1da435b3610>"
      ]
     },
     "execution_count": 15,
     "metadata": {},
     "output_type": "execute_result"
    }
   ],
   "source": [
    "cnn = models.Sequential([\n",
    "    layers.Conv2D(filters=32,kernel_size=(3,3),activation='relu',input_shape=(32,32,3)),\n",
    "    layers.MaxPooling2D((2,2)),\n",
    "    \n",
    "    layers.Conv2D(filters=64,kernel_size=(3, 3),activation='relu'),\n",
    "    layers.MaxPooling2D((2,2)),\n",
    "    \n",
    "    layers.Flatten(),\n",
    "    layers.Dense(64,activation='relu'),\n",
    "    layers.Dense(10,activation='softmax')\n",
    "    \n",
    "])\n",
    "\n",
    "cnn.compile(optimizer='adam',loss='sparse_categorical_crossentropy',metrics=['accuracy'])\n",
    "cnn.fit(x_train,y_train,epochs=20,batch_size=512)"
   ]
  },
  {
   "cell_type": "code",
   "execution_count": 16,
   "id": "8f701e26",
   "metadata": {},
   "outputs": [
    {
     "name": "stdout",
     "output_type": "stream",
     "text": [
      "313/313 [==============================] - 2s 5ms/step - loss: 0.9416 - accuracy: 0.6718\n"
     ]
    },
    {
     "data": {
      "text/plain": [
       "[0.9416278600692749, 0.6718000173568726]"
      ]
     },
     "execution_count": 16,
     "metadata": {},
     "output_type": "execute_result"
    }
   ],
   "source": [
    "cnn.evaluate(x_test,y_test)"
   ]
  },
  {
   "cell_type": "code",
   "execution_count": 17,
   "id": "7c332f5e",
   "metadata": {},
   "outputs": [
    {
     "data": {
      "image/png": "[encoded data removed]",
      "text/plain": [
       "<Figure size 1080x144 with 1 Axes>"
      ]
     },
     "metadata": {
      "needs_background": "light"
     },
     "output_type": "display_data"
    }
   ],
   "source": [
    "y_test = y_test.reshape(-1,)\n",
    "plot(x_test,y_test,1)"
   ]
  },
  {
   "cell_type": "code",
   "execution_count": 18,
   "id": "ccccbc5c",
   "metadata": {},
   "outputs": [
    {
     "data": {
      "text/plain": [
       "array([[2.86718644e-03, 7.56738707e-04, 2.65692789e-02, 7.71027446e-01,\n",
       "        2.30600755e-03, 1.61476538e-01, 1.37889739e-02, 1.17681443e-03,\n",
       "        1.84824094e-02, 1.54867489e-03],\n",
       "       [9.83817037e-03, 8.19317624e-02, 4.08353080e-05, 1.55490113e-06,\n",
       "        5.68537962e-06, 8.76728961e-07, 2.18214566e-08, 3.50404412e-06,\n",
       "        9.05381918e-01, 2.79556145e-03],\n",
       "       [6.20462373e-02, 2.04047278e-01, 8.91533622e-04, 4.04095417e-03,\n",
       "        6.66762819e-04, 5.95421181e-04, 8.62075467e-05, 3.45493783e-04,\n",
       "        6.98451042e-01, 2.88290605e-02],\n",
       "       [7.08856583e-01, 8.31510499e-02, 1.21000800e-02, 1.34219078e-03,\n",
       "        7.47080846e-03, 1.24970407e-04, 1.47434082e-04, 1.14184273e-04,\n",
       "        1.83743551e-01, 2.94914446e-03],\n",
       "       [4.56049165e-05, 2.44666415e-04, 1.24124745e-02, 6.03953898e-02,\n",
       "        3.05227429e-01, 4.34255600e-03, 6.16859257e-01, 2.36277265e-05,\n",
       "        3.74593510e-04, 7.44209756e-05]], dtype=float32)"
      ]
     },
     "execution_count": 18,
     "metadata": {},
     "output_type": "execute_result"
    }
   ],
   "source": [
    "y_pred = cnn.predict(x_test)\n",
    "y_pred[:5]"
   ]
  },
  {
   "cell_type": "code",
   "execution_count": 19,
   "id": "5fb98b28",
   "metadata": {},
   "outputs": [
    {
     "data": {
      "text/plain": [
       "[3, 8, 8, 0, 6]"
      ]
     },
     "execution_count": 19,
     "metadata": {},
     "output_type": "execute_result"
    }
   ],
   "source": [
    "y_classes = [np.argmax(element) for element in y_pred]\n",
    "y_classes[:5]"
   ]
  },
  {
   "cell_type": "code",
   "execution_count": 20,
   "id": "12461bf8",
   "metadata": {},
   "outputs": [
    {
     "data": {
      "text/plain": [
       "array([3, 8, 8, 0, 6], dtype=uint8)"
      ]
     },
     "execution_count": 20,
     "metadata": {},
     "output_type": "execute_result"
    }
   ],
   "source": [
    "y_test[:5]"
   ]
  },
  {
   "cell_type": "code",
   "execution_count": 21,
   "id": "e2a0542d",
   "metadata": {},
   "outputs": [
    {
     "data": {
      "image/png": "[encoded data removed]",
      "text/plain": [
       "<Figure size 1080x144 with 1 Axes>"
      ]
     },
     "metadata": {
      "needs_background": "light"
     },
     "output_type": "display_data"
    }
   ],
   "source": [
    "plot(x_test,y_test,7)"
   ]
  },
  {
   "cell_type": "code",
   "execution_count": 22,
   "id": "3e0488db",
   "metadata": {},
   "outputs": [
    {
     "data": {
      "text/plain": [
       "'frog'"
      ]
     },
     "execution_count": 22,
     "metadata": {},
     "output_type": "execute_result"
    }
   ],
   "source": [
    "classes[y_classes[7]]"
   ]
  },
  {
   "cell_type": "code",
   "execution_count": 23,
   "id": "ed90d429",
   "metadata": {},
   "outputs": [
    {
     "data": {
      "image/png": "[encoded data removed]",
      "text/plain": [
       "<Figure size 1080x144 with 1 Axes>"
      ]
     },
     "metadata": {
      "needs_background": "light"
     },
     "output_type": "display_data"
    }
   ],
   "source": [
    "plot(x_test,y_test,100)"
   ]
  },
  {
   "cell_type": "code",
   "execution_count": 24,
   "id": "77c30bef",
   "metadata": {},
   "outputs": [
    {
     "data": {
      "text/plain": [
       "'deer'"
      ]
     },
     "execution_count": 24,
     "metadata": {},
     "output_type": "execute_result"
    }
   ],
   "source": [
    "classes[y_classes[100]]"
   ]
  },
  {
   "cell_type": "code",
   "execution_count": 25,
   "id": "b040cc0a",
   "metadata": {},
   "outputs": [
    {
     "name": "stdout",
     "output_type": "stream",
     "text": [
      "Classification Report: \n",
      "               precision    recall  f1-score   support\n",
      "\n",
      "           0       0.77      0.67      0.72      1000\n",
      "           1       0.72      0.85      0.78      1000\n",
      "           2       0.60      0.50      0.54      1000\n",
      "           3       0.60      0.34      0.43      1000\n",
      "           4       0.67      0.56      0.61      1000\n",
      "           5       0.48      0.75      0.59      1000\n",
      "           6       0.66      0.84      0.74      1000\n",
      "           7       0.83      0.65      0.73      1000\n",
      "           8       0.72      0.83      0.77      1000\n",
      "           9       0.75      0.73      0.74      1000\n",
      "\n",
      "    accuracy                           0.67     10000\n",
      "   macro avg       0.68      0.67      0.67     10000\n",
      "weighted avg       0.68      0.67      0.67     10000\n",
      "\n"
     ]
    }
   ],
   "source": [
    "print(\"Classification Report: \\n\",classification_report(y_test,y_classes))"
   ]
  },
  {
   "cell_type": "markdown",
   "id": "e8343735",
   "metadata": {},
   "source": [
    "# THANK YOU!"
   ]
  },
  {
   "cell_type": "code",
   "execution_count": null,
   "id": "f14b2c32",
   "metadata": {},
   "outputs": [],
   "source": []
  }
 ],
 "metadata": {
  "kernelspec": {
   "display_name": "Python 3",
   "language": "python",
   "name": "python3"
  },
  "language_info": {
   "codemirror_mode": {
    "name": "ipython",
    "version": 3
   },
   "file_extension": ".py",
   "mimetype": "text/x-python",
   "name": "python",
   "nbconvert_exporter": "python",
   "pygments_lexer": "ipython3",
   "version": "3.8.8"
  }
 },
 "nbformat": 4,
 "nbformat_minor": 5
}
